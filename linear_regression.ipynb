{
 "cells": [
  {
   "cell_type": "markdown",
   "metadata": {},
   "source": [
    "# Linear Regression with pandas and scikit-learn"
   ]
  },
  {
   "cell_type": "code",
   "execution_count": 28,
   "metadata": {},
   "outputs": [
    {
     "name": "stdout",
     "output_type": "stream",
     "text": [
      "(76103, 29)\n",
      "Mean Squared Error: 72659545553.583\n",
      "R² Score: 0.5755234021720265\n",
      "Intercept: -342343.7561373648\n",
      "Coefficients: [ 6.71749158e+04  1.25134914e+05  8.55555287e+01  5.81614532e+04\n",
      " -4.34663011e+00  1.03593230e+04  1.99972184e+04  3.40827879e+05\n",
      " -1.65525831e+02 -3.93486454e+04  1.03852763e+02]\n",
      "Feature names: ['bedroomCount', 'bathroomCount', 'habitableSurface', 'toiletCount', 'postCode', 'hasGarden_encoded', 'hasTerrace_encoded', 'hasSwimmingPool_encoded', 'hasBasement_encoded', 'hasLift_encoded', 'price_per_m2']\n"
     ]
    }
   ],
   "source": [
    "import pandas as pd\n",
    "import numpy as np\n",
    "from sklearn.linear_model import LinearRegression\n",
    "from sklearn.model_selection import train_test_split\n",
    "from sklearn.metrics import mean_squared_error, r2_score\n",
    "\n",
    "df = pd.read_csv('./data/ml_ready_real_estate_data_with_price_per_m2.csv')\n",
    "# print(df.head())\n",
    "print(df.shape)\n",
    "X = df[['bedroomCount', 'bathroomCount', 'habitableSurface', 'toiletCount', \n",
    "        'postCode', 'hasGarden_encoded', 'hasTerrace_encoded','hasSwimmingPool_encoded',\n",
    "         'hasBasement_encoded', 'hasLift_encoded', 'price_per_m2']]   # independent variables\n",
    "y = df['price'] # dependent variable   \n",
    "X_train, X_test, y_train, y_test = train_test_split(X, y, test_size=0.5, random_state=42)\n",
    "\n",
    "model = LinearRegression()\n",
    "model.fit(X_train, y_train)\n",
    "y_pred = model.predict(X_test)\n",
    "\n",
    "print(\"Mean Squared Error:\", mean_squared_error(y_test, y_pred))\n",
    "print(\"R² Score:\", r2_score(y_test, y_pred))\n",
    "print(\"Intercept:\", model.intercept_)\n",
    "print(\"Coefficients:\", model.coef_)\n",
    "print(\"Feature names:\", X.columns.tolist())\n"
   ]
  },
  {
   "cell_type": "markdown",
   "metadata": {},
   "source": [
    "# Data Engineering"
   ]
  },
  {
   "cell_type": "code",
   "execution_count": 41,
   "metadata": {},
   "outputs": [
    {
     "name": "stdout",
     "output_type": "stream",
     "text": [
      "(76103, 36)\n",
      "(76073, 1)\n"
     ]
    }
   ],
   "source": [
    "import pandas as pd\n",
    "df_original = pd.read_csv(\"./data/cleaned_real_estat_data_with_price_per_m2.csv\", delimiter=\";\")\n",
    "print(df_original.shape)\n",
    "df = pd.read_csv(\"./data/cleaned_real_estat_data_with_price_per_m2.csv\", on_bad_lines='skip')\n",
    "print(df.shape)"
   ]
  }
 ],
 "metadata": {
  "kernelspec": {
   "display_name": "Python 3.13.3 ('sklearn-env': venv)",
   "language": "python",
   "name": "python3"
  },
  "language_info": {
   "codemirror_mode": {
    "name": "ipython",
    "version": 3
   },
   "file_extension": ".py",
   "mimetype": "text/x-python",
   "name": "python",
   "nbconvert_exporter": "python",
   "pygments_lexer": "ipython3",
   "version": "3.13.3"
  },
  "orig_nbformat": 4,
  "vscode": {
   "interpreter": {
    "hash": "354d619c747fa683f7cfa07aa3e06bf8128a7954a40ab94bf7d92d5df68dc866"
   }
  }
 },
 "nbformat": 4,
 "nbformat_minor": 2
}
