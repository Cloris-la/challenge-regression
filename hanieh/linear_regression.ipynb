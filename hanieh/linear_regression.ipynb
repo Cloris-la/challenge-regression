{
 "cells": [
  {
   "cell_type": "markdown",
   "metadata": {},
   "source": [
    "# Linear Regression with pandas and scikit-learn"
   ]
  },
  {
   "cell_type": "code",
   "execution_count": 5,
   "metadata": {},
   "outputs": [
    {
     "ename": "ParserError",
     "evalue": "Error tokenizing data. C error: Expected 1 fields in line 3486, saw 2\n",
     "output_type": "error",
     "traceback": [
      "\u001b[31m---------------------------------------------------------------------------\u001b[39m",
      "\u001b[31mParserError\u001b[39m                               Traceback (most recent call last)",
      "\u001b[36mCell\u001b[39m\u001b[36m \u001b[39m\u001b[32mIn[5]\u001b[39m\u001b[32m, line 13\u001b[39m\n\u001b[32m      5\u001b[39m \u001b[38;5;28;01mfrom\u001b[39;00m\u001b[38;5;250m \u001b[39m\u001b[34;01msklearn\u001b[39;00m\u001b[34;01m.\u001b[39;00m\u001b[34;01mmetrics\u001b[39;00m\u001b[38;5;250m \u001b[39m\u001b[38;5;28;01mimport\u001b[39;00m mean_squared_error, r2_score\n\u001b[32m      7\u001b[39m \u001b[38;5;66;03m# df = pd.read_csv('/Users/haniehhajighasemi/Documents/BeCode/Bouman9/GitRep/Projects/immoEliza_ML_Reg_group4/challenge-regression/data/dataset_wout_price_outliers.csv')\u001b[39;00m\n\u001b[32m      8\u001b[39m \u001b[38;5;66;03m# print(df.head())\u001b[39;00m\n\u001b[32m      9\u001b[39m \u001b[38;5;66;03m# X = df[['bedroomCount', 'bathroomCount', 'habitableSurface', 'toiletCount', \u001b[39;00m\n\u001b[32m     10\u001b[39m \u001b[38;5;66;03m#         'postCode', 'hasGarden_encoded', 'hasTerrace_encoded','hasSwimmingPool_encoded',\u001b[39;00m\n\u001b[32m     11\u001b[39m \u001b[38;5;66;03m#          'hasBasement_encoded', 'hasLift_encoded']]   # independent variables\u001b[39;00m\n\u001b[32m     12\u001b[39m \u001b[38;5;66;03m# y = df['price'] # dependent variable  \u001b[39;00m\n\u001b[32m---> \u001b[39m\u001b[32m13\u001b[39m df = \u001b[43mpd\u001b[49m\u001b[43m.\u001b[49m\u001b[43mread_csv\u001b[49m\u001b[43m(\u001b[49m\u001b[33;43m'\u001b[39;49m\u001b[33;43mimmoweb_real_estate_cleaned_dataset.csv\u001b[39;49m\u001b[33;43m'\u001b[39;49m\u001b[43m)\u001b[49m\n\u001b[32m     14\u001b[39m \u001b[38;5;28mprint\u001b[39m(df.shape)\n\u001b[32m     15\u001b[39m X  = df.iloc[:, :-\u001b[32m1\u001b[39m]\n",
      "\u001b[36mFile \u001b[39m\u001b[32m~/Documents/BeCode/Bouman9/GitRep/Projects/immoEliza_ML_Reg_group4/sklearn-env/lib/python3.13/site-packages/pandas/io/parsers/readers.py:853\u001b[39m, in \u001b[36mread_csv\u001b[39m\u001b[34m(filepath_or_buffer, sep, delimiter, header, names, index_col, usecols, dtype, engine, converters, true_values, false_values, skipinitialspace, skiprows, skipfooter, nrows, na_values, keep_default_na, na_filter, skip_blank_lines, parse_dates, date_format, dayfirst, cache_dates, iterator, chunksize, compression, thousands, decimal, lineterminator, quotechar, quoting, doublequote, escapechar, comment, encoding, encoding_errors, dialect, on_bad_lines, low_memory, memory_map, float_precision, storage_options, dtype_backend)\u001b[39m\n\u001b[32m    841\u001b[39m kwds_defaults = _refine_defaults_read(\n\u001b[32m    842\u001b[39m     dialect,\n\u001b[32m    843\u001b[39m     delimiter,\n\u001b[32m   (...)\u001b[39m\u001b[32m    849\u001b[39m     dtype_backend=dtype_backend,\n\u001b[32m    850\u001b[39m )\n\u001b[32m    851\u001b[39m kwds.update(kwds_defaults)\n\u001b[32m--> \u001b[39m\u001b[32m853\u001b[39m \u001b[38;5;28;01mreturn\u001b[39;00m \u001b[43m_read\u001b[49m\u001b[43m(\u001b[49m\u001b[43mfilepath_or_buffer\u001b[49m\u001b[43m,\u001b[49m\u001b[43m \u001b[49m\u001b[43mkwds\u001b[49m\u001b[43m)\u001b[49m\n",
      "\u001b[36mFile \u001b[39m\u001b[32m~/Documents/BeCode/Bouman9/GitRep/Projects/immoEliza_ML_Reg_group4/sklearn-env/lib/python3.13/site-packages/pandas/io/parsers/readers.py:719\u001b[39m, in \u001b[36m_read\u001b[39m\u001b[34m(filepath_or_buffer, kwds)\u001b[39m\n\u001b[32m    716\u001b[39m     \u001b[38;5;28;01mreturn\u001b[39;00m parser\n\u001b[32m    718\u001b[39m \u001b[38;5;28;01mwith\u001b[39;00m parser:\n\u001b[32m--> \u001b[39m\u001b[32m719\u001b[39m     \u001b[38;5;28;01mreturn\u001b[39;00m \u001b[43mparser\u001b[49m\u001b[43m.\u001b[49m\u001b[43mread\u001b[49m\u001b[43m(\u001b[49m\u001b[43mnrows\u001b[49m\u001b[43m)\u001b[49m\n",
      "\u001b[36mFile \u001b[39m\u001b[32m~/Documents/BeCode/Bouman9/GitRep/Projects/immoEliza_ML_Reg_group4/sklearn-env/lib/python3.13/site-packages/pandas/io/parsers/readers.py:1500\u001b[39m, in \u001b[36mTextFileReader.read\u001b[39m\u001b[34m(self, nrows)\u001b[39m\n\u001b[32m   1493\u001b[39m nrows = validate_integer(\u001b[33m\"\u001b[39m\u001b[33mnrows\u001b[39m\u001b[33m\"\u001b[39m, nrows)\n\u001b[32m   1494\u001b[39m \u001b[38;5;28;01mtry\u001b[39;00m:\n\u001b[32m   1495\u001b[39m     \u001b[38;5;66;03m# error: \"ParserBase\" has no attribute \"read\"\u001b[39;00m\n\u001b[32m   1496\u001b[39m     (\n\u001b[32m   1497\u001b[39m         index,\n\u001b[32m   1498\u001b[39m         columns,\n\u001b[32m   1499\u001b[39m         col_dict,\n\u001b[32m-> \u001b[39m\u001b[32m1500\u001b[39m     ) = \u001b[38;5;28;43mself\u001b[39;49m\u001b[43m.\u001b[49m\u001b[43m_engine\u001b[49m\u001b[43m.\u001b[49m\u001b[43mread\u001b[49m\u001b[43m(\u001b[49m\u001b[43m  \u001b[49m\u001b[38;5;66;43;03m# type: ignore[attr-defined]\u001b[39;49;00m\n\u001b[32m   1501\u001b[39m \u001b[43m        \u001b[49m\u001b[43mnrows\u001b[49m\n\u001b[32m   1502\u001b[39m \u001b[43m    \u001b[49m\u001b[43m)\u001b[49m\n\u001b[32m   1503\u001b[39m \u001b[38;5;28;01mexcept\u001b[39;00m \u001b[38;5;167;01mException\u001b[39;00m:\n\u001b[32m   1504\u001b[39m     \u001b[38;5;28mself\u001b[39m.close()\n",
      "\u001b[36mFile \u001b[39m\u001b[32m~/Documents/BeCode/Bouman9/GitRep/Projects/immoEliza_ML_Reg_group4/sklearn-env/lib/python3.13/site-packages/pandas/io/parsers/c_parser_wrapper.py:237\u001b[39m, in \u001b[36mCParserWrapper.read\u001b[39m\u001b[34m(self, nrows)\u001b[39m\n\u001b[32m    235\u001b[39m \u001b[38;5;28;01mtry\u001b[39;00m:\n\u001b[32m    236\u001b[39m     \u001b[38;5;28;01mif\u001b[39;00m \u001b[38;5;28mself\u001b[39m.low_memory:\n\u001b[32m--> \u001b[39m\u001b[32m237\u001b[39m         chunks = \u001b[38;5;28;43mself\u001b[39;49m\u001b[43m.\u001b[49m\u001b[43m_reader\u001b[49m\u001b[43m.\u001b[49m\u001b[43mread_low_memory\u001b[49m\u001b[43m(\u001b[49m\u001b[43mnrows\u001b[49m\u001b[43m)\u001b[49m\n\u001b[32m    238\u001b[39m         \u001b[38;5;66;03m# destructive to chunks\u001b[39;00m\n\u001b[32m    239\u001b[39m         data = _concatenate_chunks(chunks, \u001b[38;5;28mself\u001b[39m.names)  \u001b[38;5;66;03m# type: ignore[has-type]\u001b[39;00m\n",
      "\u001b[36mFile \u001b[39m\u001b[32mpandas/_libs/parsers.pyx:830\u001b[39m, in \u001b[36mpandas._libs.parsers.TextReader.read_low_memory\u001b[39m\u001b[34m()\u001b[39m\n",
      "\u001b[36mFile \u001b[39m\u001b[32mpandas/_libs/parsers.pyx:895\u001b[39m, in \u001b[36mpandas._libs.parsers.TextReader._read_rows\u001b[39m\u001b[34m()\u001b[39m\n",
      "\u001b[36mFile \u001b[39m\u001b[32mpandas/_libs/parsers.pyx:866\u001b[39m, in \u001b[36mpandas._libs.parsers.TextReader._tokenize_rows\u001b[39m\u001b[34m()\u001b[39m\n",
      "\u001b[36mFile \u001b[39m\u001b[32mpandas/_libs/parsers.pyx:883\u001b[39m, in \u001b[36mpandas._libs.parsers.TextReader._check_tokenize_status\u001b[39m\u001b[34m()\u001b[39m\n",
      "\u001b[36mFile \u001b[39m\u001b[32mpandas/_libs/parsers.pyx:2037\u001b[39m, in \u001b[36mpandas._libs.parsers.raise_parser_error\u001b[39m\u001b[34m()\u001b[39m\n",
      "\u001b[31mParserError\u001b[39m: Error tokenizing data. C error: Expected 1 fields in line 3486, saw 2\n"
     ]
    }
   ],
   "source": [
    "import pandas as pd\n",
    "import numpy as np\n",
    "from sklearn.linear_model import LinearRegression\n",
    "from sklearn.model_selection import train_test_split\n",
    "from sklearn.metrics import mean_squared_error, r2_score\n",
    "\n",
    "# df = pd.read_csv('/Users/haniehhajighasemi/Documents/BeCode/Bouman9/GitRep/Projects/immoEliza_ML_Reg_group4/challenge-regression/data/dataset_wout_price_outliers.csv')\n",
    "# print(df.head())\n",
    "# X = df[['bedroomCount', 'bathroomCount', 'habitableSurface', 'toiletCount', \n",
    "#         'postCode', 'hasGarden_encoded', 'hasTerrace_encoded','hasSwimmingPool_encoded',\n",
    "#          'hasBasement_encoded', 'hasLift_encoded']]   # independent variables\n",
    "# y = df['price'] # dependent variable  \n",
    "df = pd.read_csv('immoweb_real_estate_cleaned_dataset.csv')\n",
    "print(df.shape)\n",
    "X  = df.iloc[:, :-1]\n",
    "y = df.iloc[:, -1]\n",
    " \n",
    "print(X.shape)\n",
    "print(y.shape)\n",
    "X_train, X_test, y_train, y_test = train_test_split(X, y, test_size=0.2, random_state=42)\n",
    "\n",
    "model = LinearRegression()\n",
    "model.fit(X_train, y_train)\n",
    "y_pred = model.predict(X_test)\n",
    "\n",
    "print(\"Mean Squared Error:\", mean_squared_error(y_test, y_pred))\n",
    "print(\"R² Score:\", r2_score(y_test, y_pred))\n",
    "print(\"Intercept:\", model.intercept_)\n",
    "print(\"Coefficients:\", model.coef_)\n",
    "print(\"Feature names:\", X.columns.tolist())\n"
   ]
  },
  {
   "cell_type": "code",
   "execution_count": 6,
   "metadata": {},
   "outputs": [
    {
     "name": "stdout",
     "output_type": "stream",
     "text": [
      "(70206, 28)\n",
      "(70206, 27)\n",
      "(70206,)\n",
      "(56164, 27)\n",
      "(56164,)\n",
      "(14042, 27)\n",
      "(14042,)\n",
      "Mean Squared Error: 15211581586.24693\n",
      "R² Score: 0.4320270186272134\n",
      "Intercept: 16093.812678210088\n",
      "Coefficients: [ 3.09659781e+04  3.84614989e+04  2.70714131e+00  3.70683847e+04\n",
      " -1.77695014e+00  1.16003631e+04 -1.42039060e+04  4.12085857e+04\n",
      "  3.23146597e+03  2.57236743e+00  2.30371549e+04 -9.60060421e+02\n",
      " -3.92744934e+03 -4.32597683e+03  2.92221390e+04  1.70555219e+04\n",
      "  1.50550786e+04  3.36460817e+04  6.69407131e+04  5.27060864e+04\n",
      " -9.93557962e+03  4.09646323e+04 -1.64836276e+02  2.20762615e+04\n",
      "  4.39770506e+04  2.88787795e+04 -1.17365177e+04]\n",
      "Feature names: ['Unnamed: 0', 'id', 'url', 'type', 'subtype', 'bedroomCount', 'bathroomCount', 'province', 'locality', 'postCode', 'habitableSurface', 'buildingCondition', 'buildingConstructionYear', 'facedeCount', 'floodZoneType', 'heatingType', 'kitchenType', 'hasLivingRoom', 'toiletCount', 'hasTerrace', 'epcScore']\n"
     ]
    }
   ],
   "source": [
    "import pandas as pd\n",
    "import numpy as np\n",
    "from sklearn.linear_model import LinearRegression\n",
    "from sklearn.model_selection import train_test_split\n",
    "from sklearn.metrics import mean_squared_error, r2_score\n",
    "\n",
    "df = pd.read_csv('/Users/haniehhajighasemi/Documents/BeCode/Bouman9/GitRep/Projects/immoEliza_ML_Reg_group4/challenge-regression/data/dataset_wout_price_outliers.csv')\n",
    "# print(df.head())\n",
    "print(df.shape)\n",
    "x  = df.iloc[:, :-1]\n",
    "y = df.iloc[:, -1] \n",
    "print(x.shape)\n",
    "print(y.shape)\n",
    "X_train, X_test, y_train, y_test = train_test_split(x, y, test_size=0.2, random_state=42)\n",
    "print(X_train.shape)\n",
    "print(y_train.shape)\n",
    "print(X_test.shape)\n",
    "print(y_test.shape)\n",
    "model = LinearRegression()\n",
    "model.fit(X_train, y_train)\n",
    "y_pred = model.predict(X_test)\n",
    "\n",
    "print(\"Mean Squared Error:\", mean_squared_error(y_test, y_pred))\n",
    "print(\"R² Score:\", r2_score(y_test, y_pred))\n",
    "print(\"Intercept:\", model.intercept_)\n",
    "print(\"Coefficients:\", model.coef_)\n",
    "print(\"Feature names:\", X.columns.tolist())"
   ]
  },
  {
   "cell_type": "markdown",
   "metadata": {},
   "source": [
    "# Data Engineering"
   ]
  },
  {
   "cell_type": "code",
   "execution_count": 33,
   "metadata": {},
   "outputs": [
    {
     "name": "stdout",
     "output_type": "stream",
     "text": [
      "(70206, 26)\n",
      "(70206,)\n",
      "Mean Squared Error: 1189888.6210297046\n",
      "R² Score: 0.4425125955405823\n",
      "Intercept: 2635.4299907414\n",
      "Coefficients: [-343.82577478  -44.58707642  -64.00248449  -95.07225218  -72.80558577\n",
      "  -94.26345913 -386.14830079   77.23862783   73.52261357  -36.66240621\n",
      "   14.54762795    1.63609649   -1.99744487   27.12966914  -35.10676237\n",
      "  -60.88712221  -19.0554927   -18.21612558  -23.25470442  -23.6121693\n",
      "    2.79711038  113.5748863    -1.58808129   25.23043117  -45.75058916\n",
      "  738.69493481]\n",
      "Feature names: ['Unnamed: 0', 'id', 'url', 'type', 'subtype', 'bedroomCount', 'bathroomCount', 'province', 'locality', 'postCode', 'habitableSurface', 'buildingCondition', 'buildingConstructionYear', 'facedeCount', 'floodZoneType', 'heatingType', 'kitchenType', 'hasLivingRoom', 'toiletCount', 'hasTerrace', 'epcScore']\n"
     ]
    }
   ],
   "source": [
    "import pandas as pd\n",
    "import numpy as np\n",
    "from sklearn.linear_model import LinearRegression\n",
    "from sklearn.model_selection import train_test_split\n",
    "from sklearn.metrics import mean_squared_error, r2_score\n",
    "\n",
    "inputFile = '/Users/haniehhajighasemi/Documents/BeCode/Bouman9/GitRep/Projects/immoEliza_ML_Reg_group4/challenge-regression/data/dataset_wout_price_outliers.csv'\n",
    "df = pd.read_csv(inputFile)\n",
    "# Make sure both 'price' and 'habitableSurface' columns exist\n",
    "if 'price' in df.columns and 'habitableSurface' in df.columns:\n",
    "    # Avoid division by zero\n",
    "    df['price_per_m2'] = round(df['price'] / df['habitableSurface'].replace(0, pd.NA))\n",
    "else:\n",
    "    print(\"Required columns not found.\")\n",
    "# print(df.iloc[:, -1] )\n",
    "df = df.drop(\"locality_encoded\", axis='columns')\n",
    "df = df.drop(\"postCode\", axis='columns')\n",
    "x  = df.iloc[:, :-1]\n",
    "y = df.iloc[:, -1] \n",
    "print(x.shape)\n",
    "print(y.shape)\n",
    "X_train, X_test, y_train, y_test = train_test_split(x, y, test_size=0.2, random_state=42)\n",
    "\n",
    "# Convert DataFrames to NumPy arrays\n",
    "X_train_array = X_train.values\n",
    "X_test_array = X_test.values\n",
    "feature_names = X_train.columns\n",
    "\n",
    "means = []\n",
    "stdevs = []\n",
    "\n",
    "# Loop over each feature\n",
    "for idx, name in enumerate(feature_names):\n",
    "    feature_mean = np.mean(X_train_array[:, idx])\n",
    "    feature_stdev = np.std(X_train_array[:, idx])\n",
    "\n",
    "    means.append(feature_mean)\n",
    "    stdevs.append(feature_stdev)\n",
    "\n",
    "    # print(f\"Feature '{name}' has mean {feature_mean:.2f} and standard deviation {feature_stdev:.2f}\")\n",
    "\n",
    "    # Standardize using training set statistics\n",
    "    X_train_array[:, idx] = (X_train_array[:, idx] - feature_mean) / feature_stdev\n",
    "    X_test_array[:, idx] = (X_test_array[:, idx] - feature_mean) / feature_stdev\n",
    "\n",
    "# Optional: Convert back to DataFrame\n",
    "X_train_scaled = pd.DataFrame(X_train_array, columns=feature_names)\n",
    "X_test_scaled = pd.DataFrame(X_test_array, columns=feature_names)\n",
    "\n",
    "model = LinearRegression()\n",
    "model.fit(X_train_scaled, y_train)\n",
    "y_pred = model.predict(X_test_scaled)\n",
    "\n",
    "print(\"Mean Squared Error:\", mean_squared_error(y_test, y_pred))\n",
    "print(\"R² Score:\", r2_score(y_test, y_pred))\n",
    "print(\"Intercept:\", model.intercept_)\n",
    "print(\"Coefficients:\", model.coef_)\n",
    "print(\"Feature names:\", X.columns.tolist())"
   ]
  }
 ],
 "metadata": {
  "kernelspec": {
   "display_name": "Python 3.13.3 ('sklearn-env': venv)",
   "language": "python",
   "name": "python3"
  },
  "language_info": {
   "codemirror_mode": {
    "name": "ipython",
    "version": 3
   },
   "file_extension": ".py",
   "mimetype": "text/x-python",
   "name": "python",
   "nbconvert_exporter": "python",
   "pygments_lexer": "ipython3",
   "version": "3.13.3"
  },
  "orig_nbformat": 4,
  "vscode": {
   "interpreter": {
    "hash": "354d619c747fa683f7cfa07aa3e06bf8128a7954a40ab94bf7d92d5df68dc866"
   }
  }
 },
 "nbformat": 4,
 "nbformat_minor": 2
}
