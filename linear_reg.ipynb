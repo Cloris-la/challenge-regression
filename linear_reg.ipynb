{
 "cells": [
  {
   "cell_type": "code",
   "execution_count": 1,
   "id": "eb750698",
   "metadata": {},
   "outputs": [],
   "source": [
    "import pandas as pd\n"
   ]
  },
  {
   "cell_type": "code",
   "execution_count": 2,
   "id": "63612240",
   "metadata": {},
   "outputs": [
    {
     "data": {
      "application/vnd.microsoft.datawrangler.viewer.v0+json": {
       "columns": [
        {
         "name": "index",
         "rawType": "object",
         "type": "string"
        },
        {
         "name": "0",
         "rawType": "object",
         "type": "unknown"
        }
       ],
       "ref": "e8298c29-14eb-4b00-b829-92b5c019ca5b",
       "rows": [
        [
         "bedroomCount",
         "float64"
        ],
        [
         "bathroomCount",
         "float64"
        ],
        [
         "habitableSurface",
         "float64"
        ],
        [
         "toiletCount",
         "float64"
        ],
        [
         "postCode",
         "int64"
        ],
        [
         "totalParkingCount",
         "float64"
        ],
        [
         "province_encoded",
         "int64"
        ],
        [
         "type_encoded",
         "int64"
        ],
        [
         "subtype_encoded",
         "int64"
        ],
        [
         "locality_encoded",
         "float64"
        ],
        [
         "epcScore_encoded",
         "float64"
        ],
        [
         "hasAttic_encoded",
         "int64"
        ],
        [
         "hasGarden_encoded",
         "int64"
        ],
        [
         "hasAirConditioning_encoded",
         "int64"
        ],
        [
         "hasArmoredDoor_encoded",
         "int64"
        ],
        [
         "hasVisiophone_encoded",
         "int64"
        ],
        [
         "hasTerrace_encoded",
         "int64"
        ],
        [
         "hasOffice_encoded",
         "int64"
        ],
        [
         "hasSwimmingPool_encoded",
         "int64"
        ],
        [
         "hasFireplace_encoded",
         "int64"
        ],
        [
         "hasBasement_encoded",
         "int64"
        ],
        [
         "hasDressingRoom_encoded",
         "int64"
        ],
        [
         "hasDiningRoom_encoded",
         "int64"
        ],
        [
         "hasLift_encoded",
         "int64"
        ],
        [
         "hasHeatPump_encoded",
         "int64"
        ],
        [
         "hasPhotovoltaicPanels_encoded",
         "int64"
        ],
        [
         "hasLivingRoom_encoded",
         "int64"
        ],
        [
         "price",
         "float64"
        ]
       ],
       "shape": {
        "columns": 1,
        "rows": 28
       }
      },
      "text/plain": [
       "bedroomCount                     float64\n",
       "bathroomCount                    float64\n",
       "habitableSurface                 float64\n",
       "toiletCount                      float64\n",
       "postCode                           int64\n",
       "totalParkingCount                float64\n",
       "province_encoded                   int64\n",
       "type_encoded                       int64\n",
       "subtype_encoded                    int64\n",
       "locality_encoded                 float64\n",
       "epcScore_encoded                 float64\n",
       "hasAttic_encoded                   int64\n",
       "hasGarden_encoded                  int64\n",
       "hasAirConditioning_encoded         int64\n",
       "hasArmoredDoor_encoded             int64\n",
       "hasVisiophone_encoded              int64\n",
       "hasTerrace_encoded                 int64\n",
       "hasOffice_encoded                  int64\n",
       "hasSwimmingPool_encoded            int64\n",
       "hasFireplace_encoded               int64\n",
       "hasBasement_encoded                int64\n",
       "hasDressingRoom_encoded            int64\n",
       "hasDiningRoom_encoded              int64\n",
       "hasLift_encoded                    int64\n",
       "hasHeatPump_encoded                int64\n",
       "hasPhotovoltaicPanels_encoded      int64\n",
       "hasLivingRoom_encoded              int64\n",
       "price                            float64\n",
       "dtype: object"
      ]
     },
     "execution_count": 2,
     "metadata": {},
     "output_type": "execute_result"
    }
   ],
   "source": [
    "df_analysis = pd.read_csv('data\\dataset_wout_surf_encoded.csv')\n",
    "df_analysis.dtypes"
   ]
  },
  {
   "cell_type": "markdown",
   "id": "3fd4c42f",
   "metadata": {},
   "source": [
    "#### Transforming categorical variables"
   ]
  },
  {
   "cell_type": "code",
   "execution_count": 3,
   "id": "1b718199",
   "metadata": {},
   "outputs": [
    {
     "name": "stdout",
     "output_type": "stream",
     "text": [
      "Index(['hasAttic_encoded', 'hasGarden_encoded', 'hasAirConditioning_encoded',\n",
      "       'hasArmoredDoor_encoded', 'hasVisiophone_encoded', 'hasTerrace_encoded',\n",
      "       'hasOffice_encoded', 'hasSwimmingPool_encoded', 'hasFireplace_encoded',\n",
      "       'hasBasement_encoded', 'hasDressingRoom_encoded',\n",
      "       'hasDiningRoom_encoded', 'hasLift_encoded', 'hasHeatPump_encoded',\n",
      "       'hasPhotovoltaicPanels_encoded', 'hasLivingRoom_encoded'],\n",
      "      dtype='object')\n"
     ]
    }
   ],
   "source": [
    "boolean_cols = df_analysis.columns[df_analysis.columns.str.startswith('has')]\n",
    "print(boolean_cols)"
   ]
  },
  {
   "cell_type": "code",
   "execution_count": 4,
   "id": "a950ef57",
   "metadata": {},
   "outputs": [],
   "source": [
    "for col in boolean_cols:\n",
    "    df_analysis[col]= df_analysis[col].astype(\"boolean\")"
   ]
  },
  {
   "cell_type": "code",
   "execution_count": 5,
   "id": "5b315f6a",
   "metadata": {},
   "outputs": [
    {
     "data": {
      "text/plain": [
       "Index(['postCode', 'province_encoded', 'type_encoded', 'subtype_encoded'], dtype='object')"
      ]
     },
     "execution_count": 5,
     "metadata": {},
     "output_type": "execute_result"
    }
   ],
   "source": [
    "df_int_cols = df_analysis.select_dtypes(include='int64').columns\n",
    "df_int_cols\n"
   ]
  },
  {
   "cell_type": "code",
   "execution_count": 6,
   "id": "f604baa3",
   "metadata": {},
   "outputs": [
    {
     "data": {
      "text/plain": [
       "['postCode',\n",
       " 'province_encoded',\n",
       " 'type_encoded',\n",
       " 'subtype_encoded',\n",
       " 'locality_encoded']"
      ]
     },
     "execution_count": 6,
     "metadata": {},
     "output_type": "execute_result"
    }
   ],
   "source": [
    "encoded_categories = list(df_int_cols)\n",
    "encoded_categories.append('locality_encoded')\n",
    "encoded_categories"
   ]
  },
  {
   "cell_type": "code",
   "execution_count": 7,
   "id": "d016f067",
   "metadata": {},
   "outputs": [],
   "source": [
    "for col in encoded_categories:\n",
    "    df_analysis[col]= df_analysis[col].astype(\"category\")"
   ]
  },
  {
   "cell_type": "code",
   "execution_count": 8,
   "id": "de56c16f",
   "metadata": {},
   "outputs": [
    {
     "data": {
      "application/vnd.microsoft.datawrangler.viewer.v0+json": {
       "columns": [
        {
         "name": "index",
         "rawType": "object",
         "type": "string"
        },
        {
         "name": "0",
         "rawType": "object",
         "type": "unknown"
        }
       ],
       "ref": "7d1091d9-cb23-498d-9967-761589131952",
       "rows": [
        [
         "bedroomCount",
         "float64"
        ],
        [
         "bathroomCount",
         "float64"
        ],
        [
         "habitableSurface",
         "float64"
        ],
        [
         "toiletCount",
         "float64"
        ],
        [
         "postCode",
         "category"
        ],
        [
         "totalParkingCount",
         "float64"
        ],
        [
         "province_encoded",
         "category"
        ],
        [
         "type_encoded",
         "category"
        ],
        [
         "subtype_encoded",
         "category"
        ],
        [
         "locality_encoded",
         "category"
        ],
        [
         "epcScore_encoded",
         "float64"
        ],
        [
         "hasAttic_encoded",
         "boolean"
        ],
        [
         "hasGarden_encoded",
         "boolean"
        ],
        [
         "hasAirConditioning_encoded",
         "boolean"
        ],
        [
         "hasArmoredDoor_encoded",
         "boolean"
        ],
        [
         "hasVisiophone_encoded",
         "boolean"
        ],
        [
         "hasTerrace_encoded",
         "boolean"
        ],
        [
         "hasOffice_encoded",
         "boolean"
        ],
        [
         "hasSwimmingPool_encoded",
         "boolean"
        ],
        [
         "hasFireplace_encoded",
         "boolean"
        ],
        [
         "hasBasement_encoded",
         "boolean"
        ],
        [
         "hasDressingRoom_encoded",
         "boolean"
        ],
        [
         "hasDiningRoom_encoded",
         "boolean"
        ],
        [
         "hasLift_encoded",
         "boolean"
        ],
        [
         "hasHeatPump_encoded",
         "boolean"
        ],
        [
         "hasPhotovoltaicPanels_encoded",
         "boolean"
        ],
        [
         "hasLivingRoom_encoded",
         "boolean"
        ],
        [
         "price",
         "float64"
        ]
       ],
       "shape": {
        "columns": 1,
        "rows": 28
       }
      },
      "text/plain": [
       "bedroomCount                      float64\n",
       "bathroomCount                     float64\n",
       "habitableSurface                  float64\n",
       "toiletCount                       float64\n",
       "postCode                         category\n",
       "totalParkingCount                 float64\n",
       "province_encoded                 category\n",
       "type_encoded                     category\n",
       "subtype_encoded                  category\n",
       "locality_encoded                 category\n",
       "epcScore_encoded                  float64\n",
       "hasAttic_encoded                  boolean\n",
       "hasGarden_encoded                 boolean\n",
       "hasAirConditioning_encoded        boolean\n",
       "hasArmoredDoor_encoded            boolean\n",
       "hasVisiophone_encoded             boolean\n",
       "hasTerrace_encoded                boolean\n",
       "hasOffice_encoded                 boolean\n",
       "hasSwimmingPool_encoded           boolean\n",
       "hasFireplace_encoded              boolean\n",
       "hasBasement_encoded               boolean\n",
       "hasDressingRoom_encoded           boolean\n",
       "hasDiningRoom_encoded             boolean\n",
       "hasLift_encoded                   boolean\n",
       "hasHeatPump_encoded               boolean\n",
       "hasPhotovoltaicPanels_encoded     boolean\n",
       "hasLivingRoom_encoded             boolean\n",
       "price                             float64\n",
       "dtype: object"
      ]
     },
     "execution_count": 8,
     "metadata": {},
     "output_type": "execute_result"
    }
   ],
   "source": [
    "df_analysis.dtypes"
   ]
  }
 ],
 "metadata": {
  "kernelspec": {
   "display_name": "venv",
   "language": "python",
   "name": "python3"
  },
  "language_info": {
   "codemirror_mode": {
    "name": "ipython",
    "version": 3
   },
   "file_extension": ".py",
   "mimetype": "text/x-python",
   "name": "python",
   "nbconvert_exporter": "python",
   "pygments_lexer": "ipython3",
   "version": "3.10.4"
  }
 },
 "nbformat": 4,
 "nbformat_minor": 5
}
