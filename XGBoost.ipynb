{
 "cells": [
  {
   "cell_type": "code",
   "execution_count": 1,
   "id": "015a3c17",
   "metadata": {},
   "outputs": [],
   "source": [
    "import pandas as pd \n",
    "import numpy as np \n",
    "import matplotlib.pyplot as plt\n",
    "import seaborn as sns\n",
    "from scipy import stats\n",
    "import seaborn as sns"
   ]
  },
  {
   "cell_type": "code",
   "execution_count": 2,
   "id": "3c8a60d9",
   "metadata": {},
   "outputs": [],
   "source": [
    "df_preprocessed = pd.read_csv(\"data\\dataset_knn_neighbors.csv\",  encoding='utf-8')"
   ]
  },
  {
   "cell_type": "code",
   "execution_count": 3,
   "id": "c10090c7",
   "metadata": {},
   "outputs": [],
   "source": [
    "X = df_preprocessed.drop(columns=['price'])"
   ]
  },
  {
   "cell_type": "code",
   "execution_count": 4,
   "id": "fe66f006",
   "metadata": {},
   "outputs": [],
   "source": [
    "y = df_preprocessed['price']"
   ]
  },
  {
   "cell_type": "code",
   "execution_count": 5,
   "id": "cd77b478",
   "metadata": {},
   "outputs": [],
   "source": [
    "numerical_cols_X = df_preprocessed.select_dtypes(include=['int64', 'float64']).columns.tolist()\n",
    "numerical_cols_X.remove('price')\n"
   ]
  },
  {
   "cell_type": "code",
   "execution_count": null,
   "id": "617f6946",
   "metadata": {},
   "outputs": [],
   "source": [
    "\n",
    "from sklearn.preprocessing import  StandardScaler\n",
    "from sklearn.model_selection import train_test_split\n",
    "\n",
    "\n",
    "X_train_g, X_test_g, y_train_g, y_test_g = train_test_split(X, y, test_size=0.2, random_state=42)\n",
    "\n",
    "\n",
    "X_train_scaled = X_train_g.copy()\n",
    "X_test_scaled = X_test_g.copy()\n",
    "\n",
    "scaler = StandardScaler()\n",
    "\n",
    "X_train_scaled[numerical_cols_X] = scaler.fit_transform(X_train_g[numerical_cols_X])\n",
    "X_test_scaled[numerical_cols_X] = scaler.transform(X_test_g[numerical_cols_X])\n",
    "\n"
   ]
  },
  {
   "cell_type": "markdown",
   "id": "259353ac",
   "metadata": {},
   "source": [
    "# XGBoost"
   ]
  },
  {
   "cell_type": "code",
   "execution_count": 7,
   "id": "6e49e093",
   "metadata": {},
   "outputs": [
    {
     "name": "stderr",
     "output_type": "stream",
     "text": [
      "c:\\Users\\herms\\Desktop\\BeCode-Bauman\\TheHill_Projects\\immo-data-regression\\challenge-regression\\venv\\lib\\site-packages\\xgboost\\training.py:183: UserWarning: [09:30:22] WARNING: C:\\actions-runner\\_work\\xgboost\\xgboost\\src\\objective\\regression_obj.cu:250: reg:linear is now deprecated in favor of reg:squarederror.\n",
      "  bst.update(dtrain, iteration=i, fobj=obj)\n"
     ]
    },
    {
     "name": "stdout",
     "output_type": "stream",
     "text": [
      "TRAINING SET: \n",
      "R² Score : 0.9393704169950872\n",
      "TEST SET:\n",
      "Mean Squared Error: 5166386500.092345\n",
      "Mean Absolute Error: 50471.37032604133\n",
      "R² Score : 0.8089058025581726\n"
     ]
    }
   ],
   "source": [
    "import xgboost as xg\n",
    "from sklearn.metrics import mean_absolute_error, mean_squared_error, r2_score\n",
    "\n",
    "xgb_r = xg.XGBRegressor(objective ='reg:linear',\n",
    "                  n_estimators = 1000, seed = 123)\n",
    "\n",
    "# Fitting the model\n",
    "xgb_r.fit(X_train_scaled, y_train_g)\n",
    "print(\"TRAINING SET: \")\n",
    "print(\"R² Score :\", xgb_r.score(X_train_scaled, y_train_g))\n",
    "\n",
    "# Predict the model\n",
    "pred = xgb_r.predict(X_test_scaled)\n",
    "\n",
    "# RMSE Computation\n",
    "print(\"TEST SET:\")\n",
    "print(\"Mean Squared Error:\", mean_squared_error(y_test_g, pred))\n",
    "print(\"Mean Absolute Error:\", mean_absolute_error(y_test_g, pred))\n",
    "print(\"R² Score :\", r2_score(y_test_g, pred))"
   ]
  },
  {
   "cell_type": "markdown",
   "id": "fe0cb200",
   "metadata": {},
   "source": [
    "#### Features Importance"
   ]
  },
  {
   "cell_type": "code",
   "execution_count": 8,
   "id": "d4396883",
   "metadata": {},
   "outputs": [],
   "source": [
    "feature_names = X_train_scaled.columns.tolist()"
   ]
  },
  {
   "cell_type": "code",
   "execution_count": 11,
   "id": "f5c1e689",
   "metadata": {},
   "outputs": [
    {
     "name": "stdout",
     "output_type": "stream",
     "text": [
      "XGBoost Feature Importances:\n",
      "postCode_8300        0.049130\n",
      "province_Hainaut     0.042796\n",
      "province_Brussels    0.039214\n",
      "province_Liège       0.035776\n",
      "province_Namur       0.025060\n",
      "                       ...   \n",
      "postCode_6441        0.000000\n",
      "postCode_6531        0.000000\n",
      "postCode_6461        0.000000\n",
      "postCode_6593        0.000000\n",
      "type_HOUSE           0.000000\n",
      "Length: 1162, dtype: float32\n"
     ]
    }
   ],
   "source": [
    "importances = xgb_r.feature_importances_\n",
    "feature_importance_xg = pd.Series(importances, index=feature_names).sort_values(ascending=False)\n",
    "\n",
    "print(\"XGBoost Feature Importances:\")\n",
    "print(feature_importance_xg)"
   ]
  },
  {
   "cell_type": "markdown",
   "id": "83df10fe",
   "metadata": {},
   "source": [
    "### Actual vs predicted"
   ]
  },
  {
   "cell_type": "code",
   "execution_count": null,
   "id": "faf90173",
   "metadata": {},
   "outputs": [],
   "source": [
    "plt.scatter(y_test_g, pred)\n",
    "plt.plot([y_test_g.min(), y_test_g.max()], [y_test_g.min(), y_test_g.max()], c='g', lw=2)\n",
    "plt.xlabel('Actual')\n",
    "plt.ylabel('Predicted')\n",
    "plt.title('Actual vs Predicted')\n",
    "plt.show()"
   ]
  },
  {
   "cell_type": "markdown",
   "id": "238376cc",
   "metadata": {},
   "source": [
    "### Residuals"
   ]
  },
  {
   "cell_type": "code",
   "execution_count": null,
   "id": "2fd9fd84",
   "metadata": {},
   "outputs": [],
   "source": [
    "residuals_g= y_test_g - pred\n",
    "\n",
    "plt.scatter(pred, residuals_g)\n",
    "plt.axhline(0, color='red', linestyle='--')\n",
    "plt.xlabel('Predicted')\n",
    "plt.ylabel('Residuals')\n",
    "plt.title('Residuals vs Predicted')\n",
    "plt.show()"
   ]
  },
  {
   "cell_type": "code",
   "execution_count": null,
   "id": "e230e83f",
   "metadata": {},
   "outputs": [],
   "source": [
    "sns.histplot(residuals_g, kde=True)\n",
    "plt.title('Distribution of Residuals')\n",
    "plt.xlabel('Residuals')\n",
    "plt.show()"
   ]
  }
 ],
 "metadata": {
  "kernelspec": {
   "display_name": "venv",
   "language": "python",
   "name": "python3"
  },
  "language_info": {
   "codemirror_mode": {
    "name": "ipython",
    "version": 3
   },
   "file_extension": ".py",
   "mimetype": "text/x-python",
   "name": "python",
   "nbconvert_exporter": "python",
   "pygments_lexer": "ipython3",
   "version": "3.10.4"
  }
 },
 "nbformat": 4,
 "nbformat_minor": 5
}
